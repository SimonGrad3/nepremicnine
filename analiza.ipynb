{
 "cells": [
  {
   "cell_type": "markdown",
   "metadata": {},
   "source": [
    "# Analiza ponudbe hiš"
   ]
  },
  {
   "cell_type": "markdown",
   "metadata": {},
   "source": [
    "Analiza ponudbe hiš v Sloveniji in na Hrvaškem je bila opravljena na  spletni strani [NEPREMICNINE.net](https://www.nepremicnine.net/oglasi-prodaja/hisa/) na dan 27. 10. 2021."
   ]
  },
  {
   "cell_type": "markdown",
   "metadata": {},
   "source": [
    "##### Uvoz podatkov in odstranitev nepopolnih zapisov"
   ]
  },
  {
   "cell_type": "code",
   "execution_count": 41,
   "metadata": {},
   "outputs": [
    {
     "data": {
      "text/html": [
       "<div>\n",
       "<style scoped>\n",
       "    .dataframe tbody tr th:only-of-type {\n",
       "        vertical-align: middle;\n",
       "    }\n",
       "\n",
       "    .dataframe tbody tr th {\n",
       "        vertical-align: top;\n",
       "    }\n",
       "\n",
       "    .dataframe thead th {\n",
       "        text-align: right;\n",
       "    }\n",
       "</style>\n",
       "<table border=\"1\" class=\"dataframe\">\n",
       "  <thead>\n",
       "    <tr style=\"text-align: right;\">\n",
       "      <th></th>\n",
       "      <th>kraj</th>\n",
       "      <th>leto</th>\n",
       "      <th>cena</th>\n",
       "      <th>agencija</th>\n",
       "      <th>opis</th>\n",
       "      <th>nadstropja</th>\n",
       "      <th>povrsina_zemljisca</th>\n",
       "      <th>povrsina_hise</th>\n",
       "      <th>ima_klet</th>\n",
       "      <th>drzava</th>\n",
       "    </tr>\n",
       "    <tr>\n",
       "      <th>id</th>\n",
       "      <th></th>\n",
       "      <th></th>\n",
       "      <th></th>\n",
       "      <th></th>\n",
       "      <th></th>\n",
       "      <th></th>\n",
       "      <th></th>\n",
       "      <th></th>\n",
       "      <th></th>\n",
       "      <th></th>\n",
       "    </tr>\n",
       "  </thead>\n",
       "  <tbody>\n",
       "    <tr>\n",
       "      <th>6387983</th>\n",
       "      <td>BODEŠČE</td>\n",
       "      <td>1800</td>\n",
       "      <td>265000</td>\n",
       "      <td>Zasebna ponudba</td>\n",
       "      <td>300 m2, samostojna, zgrajena l. 1800, adaptira...</td>\n",
       "      <td>K+P+1+M</td>\n",
       "      <td>700.0</td>\n",
       "      <td>300.0</td>\n",
       "      <td>True</td>\n",
       "      <td>Slovenija</td>\n",
       "    </tr>\n",
       "    <tr>\n",
       "      <th>6439981</th>\n",
       "      <td>BOGOJINA</td>\n",
       "      <td>1960</td>\n",
       "      <td>44000</td>\n",
       "      <td>Dom M5 d.o.o.</td>\n",
       "      <td>67,3 m2, samostojna, zgrajena l. 1960, 425 m2 ...</td>\n",
       "      <td>K+P</td>\n",
       "      <td>425.0</td>\n",
       "      <td>67.0</td>\n",
       "      <td>True</td>\n",
       "      <td>Slovenija</td>\n",
       "    </tr>\n",
       "    <tr>\n",
       "      <th>6320190</th>\n",
       "      <td>BREZOVICA PRI LJUBLJANI</td>\n",
       "      <td>2007</td>\n",
       "      <td>420000</td>\n",
       "      <td>ABC nepremičnine d.o.o.</td>\n",
       "      <td>495 m2, dvostanovanjska, zgrajena l. 2007, pro...</td>\n",
       "      <td>NaN</td>\n",
       "      <td>NaN</td>\n",
       "      <td>495.0</td>\n",
       "      <td>NaN</td>\n",
       "      <td>Slovenija</td>\n",
       "    </tr>\n",
       "    <tr>\n",
       "      <th>6409203</th>\n",
       "      <td>CELJE</td>\n",
       "      <td>2021</td>\n",
       "      <td>315000</td>\n",
       "      <td>Bfa skupina, d.o.o.</td>\n",
       "      <td>205 m2, samostojna, novogradnja, začetek gradn...</td>\n",
       "      <td>P+1</td>\n",
       "      <td>600.0</td>\n",
       "      <td>205.0</td>\n",
       "      <td>False</td>\n",
       "      <td>Slovenija</td>\n",
       "    </tr>\n",
       "    <tr>\n",
       "      <th>6427182</th>\n",
       "      <td>ČRNA VAS</td>\n",
       "      <td>2016</td>\n",
       "      <td>390000</td>\n",
       "      <td>MP PROJEKT, d.o.o., PE Ljubljana</td>\n",
       "      <td>100,2 m2, dvojček, zgrajen l. 2016, 262 m2 zem...</td>\n",
       "      <td>NaN</td>\n",
       "      <td>262.0</td>\n",
       "      <td>100.0</td>\n",
       "      <td>NaN</td>\n",
       "      <td>Slovenija</td>\n",
       "    </tr>\n",
       "    <tr>\n",
       "      <th>...</th>\n",
       "      <td>...</td>\n",
       "      <td>...</td>\n",
       "      <td>...</td>\n",
       "      <td>...</td>\n",
       "      <td>...</td>\n",
       "      <td>...</td>\n",
       "      <td>...</td>\n",
       "      <td>...</td>\n",
       "      <td>...</td>\n",
       "      <td>...</td>\n",
       "    </tr>\n",
       "    <tr>\n",
       "      <th>5916801</th>\n",
       "      <td>ŽABORIĆ</td>\n",
       "      <td>1989</td>\n",
       "      <td>800000</td>\n",
       "      <td>D5 Ing d.o.o.</td>\n",
       "      <td>650 m2, hiša, zgrajena l. 1989, adaptirana l. ...</td>\n",
       "      <td>K+P+1+2</td>\n",
       "      <td>NaN</td>\n",
       "      <td>650.0</td>\n",
       "      <td>True</td>\n",
       "      <td>Hrvaska</td>\n",
       "    </tr>\n",
       "    <tr>\n",
       "      <th>6426574</th>\n",
       "      <td>ŽBANDAJ</td>\n",
       "      <td>2008</td>\n",
       "      <td>525000</td>\n",
       "      <td>QUDOS, center nepremičnin d.o.o.</td>\n",
       "      <td>444,2 m2, samostojna, zgrajena l. 2008, 1.450 ...</td>\n",
       "      <td>K+P+1</td>\n",
       "      <td>1450.0</td>\n",
       "      <td>444.0</td>\n",
       "      <td>True</td>\n",
       "      <td>Hrvaska</td>\n",
       "    </tr>\n",
       "    <tr>\n",
       "      <th>6418130</th>\n",
       "      <td>ŽESTILAC</td>\n",
       "      <td>1980</td>\n",
       "      <td>259000</td>\n",
       "      <td>Aeon nepremičnine, d.o.o.</td>\n",
       "      <td>125 m2, dvostanovanjska, zgrajena l. 1980, ada...</td>\n",
       "      <td>NaN</td>\n",
       "      <td>1103.0</td>\n",
       "      <td>125.0</td>\n",
       "      <td>NaN</td>\n",
       "      <td>Hrvaska</td>\n",
       "    </tr>\n",
       "    <tr>\n",
       "      <th>6400042</th>\n",
       "      <td>ŽMAN</td>\n",
       "      <td>2004</td>\n",
       "      <td>447000</td>\n",
       "      <td>Rocco nepremičnine d.o.o.</td>\n",
       "      <td>596 m2, samostojna, zgrajena l. 2004, 900 m2 z...</td>\n",
       "      <td>P+1+M</td>\n",
       "      <td>900.0</td>\n",
       "      <td>596.0</td>\n",
       "      <td>False</td>\n",
       "      <td>Hrvaska</td>\n",
       "    </tr>\n",
       "    <tr>\n",
       "      <th>6388740</th>\n",
       "      <td>ŽMAN, 33, 23282, HRVAŠKA</td>\n",
       "      <td>2019</td>\n",
       "      <td>145000</td>\n",
       "      <td>Zasebna ponudba</td>\n",
       "      <td>80 m2, samostojna, zgrajena l. 2019, 280 m2 ze...</td>\n",
       "      <td>P+1</td>\n",
       "      <td>280.0</td>\n",
       "      <td>80.0</td>\n",
       "      <td>False</td>\n",
       "      <td>Hrvaska</td>\n",
       "    </tr>\n",
       "  </tbody>\n",
       "</table>\n",
       "<p>4627 rows × 10 columns</p>\n",
       "</div>"
      ],
      "text/plain": [
       "                             kraj  leto    cena  \\\n",
       "id                                                \n",
       "6387983                   BODEŠČE  1800  265000   \n",
       "6439981                  BOGOJINA  1960   44000   \n",
       "6320190   BREZOVICA PRI LJUBLJANI  2007  420000   \n",
       "6409203                     CELJE  2021  315000   \n",
       "6427182                  ČRNA VAS  2016  390000   \n",
       "...                           ...   ...     ...   \n",
       "5916801                   ŽABORIĆ  1989  800000   \n",
       "6426574                   ŽBANDAJ  2008  525000   \n",
       "6418130                  ŽESTILAC  1980  259000   \n",
       "6400042                      ŽMAN  2004  447000   \n",
       "6388740  ŽMAN, 33, 23282, HRVAŠKA  2019  145000   \n",
       "\n",
       "                                 agencija  \\\n",
       "id                                          \n",
       "6387983                   Zasebna ponudba   \n",
       "6439981                     Dom M5 d.o.o.   \n",
       "6320190           ABC nepremičnine d.o.o.   \n",
       "6409203               Bfa skupina, d.o.o.   \n",
       "6427182  MP PROJEKT, d.o.o., PE Ljubljana   \n",
       "...                                   ...   \n",
       "5916801                     D5 Ing d.o.o.   \n",
       "6426574  QUDOS, center nepremičnin d.o.o.   \n",
       "6418130         Aeon nepremičnine, d.o.o.   \n",
       "6400042         Rocco nepremičnine d.o.o.   \n",
       "6388740                   Zasebna ponudba   \n",
       "\n",
       "                                                      opis nadstropja  \\\n",
       "id                                                                      \n",
       "6387983  300 m2, samostojna, zgrajena l. 1800, adaptira...    K+P+1+M   \n",
       "6439981  67,3 m2, samostojna, zgrajena l. 1960, 425 m2 ...        K+P   \n",
       "6320190  495 m2, dvostanovanjska, zgrajena l. 2007, pro...        NaN   \n",
       "6409203  205 m2, samostojna, novogradnja, začetek gradn...        P+1   \n",
       "6427182  100,2 m2, dvojček, zgrajen l. 2016, 262 m2 zem...        NaN   \n",
       "...                                                    ...        ...   \n",
       "5916801  650 m2, hiša, zgrajena l. 1989, adaptirana l. ...    K+P+1+2   \n",
       "6426574  444,2 m2, samostojna, zgrajena l. 2008, 1.450 ...      K+P+1   \n",
       "6418130  125 m2, dvostanovanjska, zgrajena l. 1980, ada...        NaN   \n",
       "6400042  596 m2, samostojna, zgrajena l. 2004, 900 m2 z...      P+1+M   \n",
       "6388740  80 m2, samostojna, zgrajena l. 2019, 280 m2 ze...        P+1   \n",
       "\n",
       "         povrsina_zemljisca  povrsina_hise ima_klet     drzava  \n",
       "id                                                              \n",
       "6387983               700.0          300.0     True  Slovenija  \n",
       "6439981               425.0           67.0     True  Slovenija  \n",
       "6320190                 NaN          495.0      NaN  Slovenija  \n",
       "6409203               600.0          205.0    False  Slovenija  \n",
       "6427182               262.0          100.0      NaN  Slovenija  \n",
       "...                     ...            ...      ...        ...  \n",
       "5916801                 NaN          650.0     True    Hrvaska  \n",
       "6426574              1450.0          444.0     True    Hrvaska  \n",
       "6418130              1103.0          125.0      NaN    Hrvaska  \n",
       "6400042               900.0          596.0    False    Hrvaska  \n",
       "6388740               280.0           80.0    False    Hrvaska  \n",
       "\n",
       "[4627 rows x 10 columns]"
      ]
     },
     "execution_count": 41,
     "metadata": {},
     "output_type": "execute_result"
    }
   ],
   "source": [
    "import pandas as pd\n",
    "import os.path\n",
    "pd.options.display.max_rows = 15 #zaradi preglednosti nastavimo max št. vrstic na 15\n",
    "%matplotlib inline\n",
    "hise = pd.read_csv(os.path.join(\"hise.csv\"), index_col=\"id\")\n",
    "hise = hise[(hise.cena > 10000)] #nekatere cene so v renici cene na m^2 ali pa so cene kot 1€. Te hiše že takoj na začetku izločimo iz naše analize\n",
    "hise"
   ]
  },
  {
   "cell_type": "markdown",
   "metadata": {},
   "source": [
    "Vseh hiš, ki so ustrezale našemu pogoju je še vedno 4627 (zadosti, da nadaljujemo analizo). "
   ]
  },
  {
   "cell_type": "markdown",
   "metadata": {},
   "source": [
    "## Kje so najdražje hiše?"
   ]
  },
  {
   "cell_type": "markdown",
   "metadata": {},
   "source": [
    "Za začetek bomo pogledali v katerem kraju je m^2 napremičnine najdražji. Naša hipoteza napoveduje, da bodo cene na m^2 najdražje v Ljubljani. Definiramo:\n",
    "<center><i>razmerje = cena / povrsina hise </i></center>\n",
    "\n",
    "Tako bomo pri vsaki hiši izračunali ceno na m^2."
   ]
  },
  {
   "cell_type": "code",
   "execution_count": 42,
   "metadata": {},
   "outputs": [],
   "source": [
    "razmerje = hise[\"cena\"] / hise[\"povrsina_hise\"]\n",
    "hise[\"razmerje\"] = razmerje"
   ]
  },
  {
   "cell_type": "code",
   "execution_count": 43,
   "metadata": {},
   "outputs": [
    {
     "data": {
      "text/plain": [
       "kraj\n",
       "TOPOL PRI MEDVODAH    3822.914527\n",
       "SAVUDRIJA             3971.290947\n",
       "CRVENI VRH            4087.282063\n",
       "DAJLA                 4231.024612\n",
       "BLED                  4311.577419\n",
       "SEČOVLJE              4331.057675\n",
       "PORTOROŽ              4570.643294\n",
       "MURGLE, TRNOVO        4683.950050\n",
       "STRUNJAN              5940.416667\n",
       "JAGODJE               6867.104424\n",
       "Name: razmerje, dtype: float64"
      ]
     },
     "execution_count": 43,
     "metadata": {},
     "output_type": "execute_result"
    }
   ],
   "source": [
    "normalne_hise = hise[hise.povrsina_hise > 20] #omejimo se samo na hiše z več kot 20 m^2, saj je večina hiš z manjšimi vrednosti neprava vrednost, ki kvari statistiko.\n",
    "h = normalne_hise.groupby(\"kraj\")\n",
    "cena_na_m2 = h.mean()[h.size() > 2]  #omejimo se še na tiste kraje v katerih so vsaj 3 hiše na ponudbi, saj tudi tisti z eno lahko preveč izstopajo.\n",
    "cena_na_m2.sort_values(\"razmerje\")[\"razmerje\"].tail(10)"
   ]
  },
  {
   "cell_type": "markdown",
   "metadata": {},
   "source": [
    "Presenetljivo nam podatki pokažejo, da so cene na m^2 najdražje v Jagodjah na slovenski obali. Tudi par naslednjih krajev (Strunjan, Portorož in Sečovlje) so na slovenski obali. Delno pa smo napovedali tudi pravilno, saj Murgle ter Trnovo zasedata tretjo mesto.\n",
    "\n",
    "Sedaj pa si poglejmo v katerem kraju je cena povprečne hiše najdražja. Naša hipoteza je bila, da bo to nekje na slovenski obali."
   ]
  },
  {
   "cell_type": "code",
   "execution_count": 44,
   "metadata": {},
   "outputs": [
    {
     "data": {
      "text/plain": [
       "kraj\n",
       "VODICE        1.021222e+06\n",
       "SAVUDRIJA     1.050647e+06\n",
       "JAGODJE       1.106667e+06\n",
       "MALIJA        1.136667e+06\n",
       "OPRIČ         1.262667e+06\n",
       "LJ. CENTER    1.296250e+06\n",
       "PORTOROŽ      1.296750e+06\n",
       "KAMPEL        1.380000e+06\n",
       "BLED          1.593400e+06\n",
       "IČIĆI         1.923333e+06\n",
       "Name: cena, dtype: float64"
      ]
     },
     "execution_count": 44,
     "metadata": {},
     "output_type": "execute_result"
    }
   ],
   "source": [
    "cena_na_m2.sort_values(\"cena\")[\"cena\"].tail(10)"
   ]
  },
  {
   "cell_type": "markdown",
   "metadata": {},
   "source": [
    "Najdražje hiše lahko kupimo v Ičićih na Hrvaškem, kjer je povprečna cena za hišo skoraj dva milijona evrov. Če pa ne vemo kam bi s svojimi milijoni in bi radi kupili hišo v Sloveniji je prava lokacija Bled, slovenska obala (tokrat Kampel in Portorož) ali pa hiša v centu Ljubljane."
   ]
  },
  {
   "cell_type": "markdown",
   "metadata": {},
   "source": [
    "Izpostavil bi primerjavo med Jagodjem in Kamplom (oba kraja sta na slovenski obali). Iz analize razberemo, da so v Kamplu očitno hiše z veliko večjo površino, medtem ko so v Jagodjah manjše a zato ne preveč cenejše.\n",
    "\n",
    "Kje pa lahko dobimo najcenejšo hišo?"
   ]
  },
  {
   "cell_type": "code",
   "execution_count": 45,
   "metadata": {},
   "outputs": [
    {
     "data": {
      "text/plain": [
       "<AxesSubplot:xlabel='kraj'>"
      ]
     },
     "execution_count": 45,
     "metadata": {},
     "output_type": "execute_result"
    },
    {
     "data": {
      "image/png": "[encoded data removed]",
      "text/plain": [
       "<Figure size 432x288 with 1 Axes>"
      ]
     },
     "metadata": {
      "needs_background": "light"
     },
     "output_type": "display_data"
    }
   ],
   "source": [
    "najcenejše_hiše_po_krajih = cena_na_m2.sort_values(\"cena\")[\"cena\"].head(10)\n",
    "najcenejše_hiše_po_krajih.plot.bar()"
   ]
  },
  {
   "cell_type": "markdown",
   "metadata": {},
   "source": [
    "Najcenejše hiše pa lahko dobimo v Sedlašku, kjer je cena za povprečno hišo \"samo\" 45.333€. \n",
    "\n",
    "Dodatno si poglejmo še kateri kraji imajo največjo vrednost svojih nepremičnin v prodaji."
   ]
  },
  {
   "cell_type": "code",
   "execution_count": 46,
   "metadata": {},
   "outputs": [
    {
     "data": {
      "text/plain": [
       "kraj\n",
       "BLED          15934000\n",
       "MEDULIN       16669000\n",
       "SAVUDRIJA     18911646\n",
       "PORTOROŽ      25935000\n",
       "CRIKVENICA    30505000\n",
       "POREČ         30741375\n",
       "NOVIGRAD      40457500\n",
       "UMAG          43526802\n",
       "KRK           57014000\n",
       "MALINSKA      57489000\n",
       "Name: cena, dtype: int64"
      ]
     },
     "execution_count": 46,
     "metadata": {},
     "output_type": "execute_result"
    }
   ],
   "source": [
    "h.sum()[h.size() > 2].sort_values(\"cena\")[\"cena\"].tail(10)"
   ]
  },
  {
   "cell_type": "markdown",
   "metadata": {},
   "source": [
    "Na vrhu so hrvaška mesta. Prvi slovenski kraj pa je Portorož.\n",
    "\n",
    "Da zaključimo s poglavjem o cenah hiš glede na lokacije. \n",
    "Ovrgli smo našo prvo hipotezo, saj so najdražje hiše na m^2 v Jagodjah in ne v Ljubljani.\n",
    "Drugo hipotezo pa smo delno potrdili, čeprav so najdražje hiše v Ičićih na Hrvaškem sta na drugem in tretjem mestu dva kraja iz slovenske obale."
   ]
  },
  {
   "cell_type": "markdown",
   "metadata": {},
   "source": [
    "## Kako cene hiš padajo ali naraščajo glede na leto izgradnje"
   ]
  },
  {
   "cell_type": "code",
   "execution_count": 47,
   "metadata": {},
   "outputs": [
    {
     "data": {
      "image/png": "[encoded data removed]",
      "text/plain": [
       "<Figure size 432x288 with 1 Axes>"
      ]
     },
     "metadata": {
      "needs_background": "light"
     },
     "output_type": "display_data"
    }
   ],
   "source": [
    "hise['desetletje'] = 10 * (hise.leto // 10)\n",
    "\n",
    "hise_po_desetletjih = hise.groupby(\"desetletje\")\n",
    "b = hise_po_desetletjih.mean()[\"cena\"].plot(xlabel=\"\")"
   ]
  },
  {
   "cell_type": "markdown",
   "metadata": {},
   "source": [
    "Kot vidimo iz grafa, cene ne naraščajo linearno. Ker je starih hiš bolj malo , cene hitreje bolj nihajo. Zato je smiselno, da bolj podrobno pogledamo hiše, ki niso starejše od 100 let. "
   ]
  },
  {
   "cell_type": "code",
   "execution_count": 48,
   "metadata": {},
   "outputs": [
    {
     "data": {
      "image/png": "[encoded data removed]",
      "text/plain": [
       "<Figure size 432x288 with 1 Axes>"
      ]
     },
     "metadata": {
      "needs_background": "light"
     },
     "output_type": "display_data"
    }
   ],
   "source": [
    "nove_hise = hise[hise.desetletje > 1920]\n",
    "hise_po_desetletjih = nove_hise.groupby(\"desetletje\")\n",
    "b = hise_po_desetletjih.mean()[\"cena\"].plot(xlabel=\"\")"
   ]
  },
  {
   "cell_type": "markdown",
   "metadata": {},
   "source": [
    "Tu vidimo, da starejša kot je hiša, cenejša bo. Kar se zdi smiselno. Opazimo pa v zadnejm desetletju občuten padec cen, ki ceno novogradnje postavi pod tiste hiše, ki so stare 10-20 let.Verjetno je to posledica, da se nekatere nove hiše prodajajo neopremljene ali pa celo nedokončane."
   ]
  },
  {
   "cell_type": "markdown",
   "metadata": {},
   "source": [
    "## Ali se splača imeti več nadstropji?"
   ]
  },
  {
   "cell_type": "code",
   "execution_count": 49,
   "metadata": {},
   "outputs": [
    {
     "data": {
      "text/html": [
       "<div>\n",
       "<style scoped>\n",
       "    .dataframe tbody tr th:only-of-type {\n",
       "        vertical-align: middle;\n",
       "    }\n",
       "\n",
       "    .dataframe tbody tr th {\n",
       "        vertical-align: top;\n",
       "    }\n",
       "\n",
       "    .dataframe thead th {\n",
       "        text-align: right;\n",
       "    }\n",
       "</style>\n",
       "<table border=\"1\" class=\"dataframe\">\n",
       "  <thead>\n",
       "    <tr style=\"text-align: right;\">\n",
       "      <th></th>\n",
       "      <th>leto</th>\n",
       "      <th>cena</th>\n",
       "      <th>povrsina_zemljisca</th>\n",
       "      <th>povrsina_hise</th>\n",
       "      <th>razmerje</th>\n",
       "      <th>desetletje</th>\n",
       "    </tr>\n",
       "    <tr>\n",
       "      <th>ima_klet</th>\n",
       "      <th></th>\n",
       "      <th></th>\n",
       "      <th></th>\n",
       "      <th></th>\n",
       "      <th></th>\n",
       "      <th></th>\n",
       "    </tr>\n",
       "  </thead>\n",
       "  <tbody>\n",
       "    <tr>\n",
       "      <th>False</th>\n",
       "      <td>1978.228932</td>\n",
       "      <td>368296.331785</td>\n",
       "      <td>2153.721083</td>\n",
       "      <td>201.762442</td>\n",
       "      <td>3286.197595</td>\n",
       "      <td>1975.009954</td>\n",
       "    </tr>\n",
       "    <tr>\n",
       "      <th>True</th>\n",
       "      <td>1968.139942</td>\n",
       "      <td>350174.315841</td>\n",
       "      <td>3180.255624</td>\n",
       "      <td>257.072886</td>\n",
       "      <td>6699.041046</td>\n",
       "      <td>1964.353741</td>\n",
       "    </tr>\n",
       "  </tbody>\n",
       "</table>\n",
       "</div>"
      ],
      "text/plain": [
       "                 leto           cena  povrsina_zemljisca  povrsina_hise  \\\n",
       "ima_klet                                                                  \n",
       "False     1978.228932  368296.331785         2153.721083     201.762442   \n",
       "True      1968.139942  350174.315841         3180.255624     257.072886   \n",
       "\n",
       "             razmerje   desetletje  \n",
       "ima_klet                            \n",
       "False     3286.197595  1975.009954  \n",
       "True      6699.041046  1964.353741  "
      ]
     },
     "execution_count": 49,
     "metadata": {},
     "output_type": "execute_result"
    }
   ],
   "source": [
    "hise_klet = hise.groupby(\"ima_klet\")\n",
    "hise_klet.mean()"
   ]
  },
  {
   "cell_type": "markdown",
   "metadata": {},
   "source": [
    "Hiše s kletjo so v povprečju starejše, večje in presenetljivo cenejše. Očitno tukaj glavno vlogo odigra dejstvo, da so hiše, ki imajo klet, v povprečju starejše (zato tudi cenejše) in da dodatni kvadratni metri v kleti niso tako cenjeni kot tisti v pritličju ali drugih nadstropjih."
   ]
  },
  {
   "cell_type": "code",
   "execution_count": 50,
   "metadata": {},
   "outputs": [],
   "source": [
    "def stevilo_nadstropij(nadstropja):\n",
    "    niz = str(nadstropja)\n",
    "    if \"P\" in niz:\n",
    "        return len(niz.split(\"+\"))\n",
    "    else:\n",
    "        return None"
   ]
  },
  {
   "cell_type": "code",
   "execution_count": 51,
   "metadata": {},
   "outputs": [
    {
     "data": {
      "text/plain": [
       "nadstropja_x\n",
       "1.0    366525.690476\n",
       "2.0    327663.499064\n",
       "3.0    368608.771157\n",
       "4.0    451737.404255\n",
       "5.0    487285.714286\n",
       "Name: cena, dtype: float64"
      ]
     },
     "execution_count": 51,
     "metadata": {},
     "output_type": "execute_result"
    }
   ],
   "source": [
    "st_nadstropij = hise[\"nadstropja\"].apply(stevilo_nadstropij)\n",
    "hi = pd.merge(st_nadstropij, hise, left_on=\"id\", right_on=\"id\").groupby(\"nadstropja_x\")\n",
    "hi.mean()[\"cena\"]"
   ]
  },
  {
   "cell_type": "code",
   "execution_count": 52,
   "metadata": {},
   "outputs": [
    {
     "data": {
      "text/plain": [
       "<AxesSubplot:xlabel='nadstropja_x'>"
      ]
     },
     "execution_count": 52,
     "metadata": {},
     "output_type": "execute_result"
    },
    {
     "data": {
      "image/png": "[encoded data removed]",
      "text/plain": [
       "<Figure size 432x288 with 1 Axes>"
      ]
     },
     "metadata": {
      "needs_background": "light"
     },
     "output_type": "display_data"
    }
   ],
   "source": [
    "hi.mean()[\"cena\"].plot.bar(x='nadstropja_x', y='cena')"
   ]
  },
  {
   "cell_type": "markdown",
   "metadata": {},
   "source": [
    "Hiše z več nadstropji so praviloma res dražje kot tiste z manj. Edina izjema so hiše s samo enim nadstropjem oziroma samo s pritličjem. Te so namreč v povprečju dražje kot tiste z dvema in celo tiste s tremi nadstropji."
   ]
  },
  {
   "cell_type": "markdown",
   "metadata": {},
   "source": [
    "## Agencije, ki prodajajo hiše"
   ]
  },
  {
   "cell_type": "code",
   "execution_count": 53,
   "metadata": {},
   "outputs": [],
   "source": [
    "hise = hise.drop(columns=[\"razmerje\", \"desetletje\"])"
   ]
  },
  {
   "cell_type": "code",
   "execution_count": 54,
   "metadata": {},
   "outputs": [
    {
     "data": {
      "text/plain": [
       "agencija\n",
       "MESTO NEPREMIČNIN d.o.o.                             70\n",
       "Nepremičninska družba, d.o.o., PE RE/MAX Premium     75\n",
       "Vitus d.o.o.                                         76\n",
       "Casa de mar nekretnine d.o.o.                        77\n",
       "RE/MAX Ljubljana, Nepremičninska družba d.o.o.       83\n",
       "Market center Omnis d.o.o.                          103\n",
       "Opereta d.o.o.                                      117\n",
       "Premium SM d.o.o.                                   125\n",
       "Sonce skupina d.o.o., PE Ljubljana                  292\n",
       "Zasebna ponudba                                     524\n",
       "dtype: int64"
      ]
     },
     "execution_count": 54,
     "metadata": {},
     "output_type": "execute_result"
    }
   ],
   "source": [
    "hise_po_agencijah = hise.groupby(\"agencija\")\n",
    "hise_po_agencijah.size().sort_values().tail(10)"
   ]
  },
  {
   "cell_type": "markdown",
   "metadata": {},
   "source": [
    "Največ ljudi prodaja nepremičnine brez posrednika. Agencija, ki ima trenutno na Nepremicnine.net največ oglasov za hiše, pa je Sonce skupina d.o.o., PE Ljubljana z okoli 300 hišami. "
   ]
  },
  {
   "cell_type": "code",
   "execution_count": 55,
   "metadata": {},
   "outputs": [
    {
     "data": {
      "text/plain": [
       "agencija\n",
       "Stanovanjski sklad RS                    19100.000000\n",
       "Občina Komen                             27000.000000\n",
       "Ministrstvo za javno upravo              27536.500000\n",
       "PETRA NEPREMIČNINE Petra Anzeljc s.p.    35000.000000\n",
       "ARTOURE Jana Dolenc s.p.                 39333.333333\n",
       "Name: cena, dtype: float64"
      ]
     },
     "execution_count": 55,
     "metadata": {},
     "output_type": "execute_result"
    }
   ],
   "source": [
    "hise_po_agencijah_povprečja = hise_po_agencijah.mean()\n",
    "hise_po_agencijah_povprečja.sort_values(\"cena\")[\"cena\"].head(5)"
   ]
  },
  {
   "cell_type": "markdown",
   "metadata": {},
   "source": [
    "Opazimo, da v povprečju najcenejše hiše prodaja Stanovanjski sklad RS po povprečno samo 19.100€, kar je za hišo sumljivo nizka cena. Naslednji pa so državni, ali občinski ponudniki s povprečno ceno pod 30.000 €.\n",
    "Prve tri od zgoraj naštetih agencij ponujajo zgolj eno hišo z nizko ceno."
   ]
  },
  {
   "cell_type": "code",
   "execution_count": 56,
   "metadata": {},
   "outputs": [
    {
     "data": {
      "text/plain": [
       "agencija\n",
       "Reconsult & Partners d.o.o.                                               1500000.0\n",
       "Port, d.o.o. Portorož                                                     1595000.0\n",
       "N-invest d.o.o.                                                           1742500.0\n",
       "Returnet, nepremičnine in poslovno svetovanje, Jana Klenar Aydin, s.p.    2000000.0\n",
       "Viping d.o.o.                                                             3800000.0\n",
       "Name: cena, dtype: float64"
      ]
     },
     "execution_count": 56,
     "metadata": {},
     "output_type": "execute_result"
    }
   ],
   "source": [
    "hise_po_agencijah_povprečja.sort_values(\"cena\")[\"cena\"].tail(5)"
   ]
  },
  {
   "cell_type": "markdown",
   "metadata": {},
   "source": [
    "Agencija pri kateri najdemo povprečno najdražje hiše je Viping d.o.o. Pri kateri je povprečna cena hiše skoraj štiri milijone."
   ]
  },
  {
   "cell_type": "markdown",
   "metadata": {},
   "source": [
    "## Kako na ceno vpliva razmerje med površino hiše in površino zemljišča? "
   ]
  },
  {
   "cell_type": "markdown",
   "metadata": {},
   "source": [
    "Njaprej razjasnimo, kaj nam pove razmerje med površino hiše in površino zemljišča."
   ]
  },
  {
   "cell_type": "markdown",
   "metadata": {},
   "source": [
    "$r = h / z$"
   ]
  },
  {
   "cell_type": "markdown",
   "metadata": {},
   "source": [
    "* $r$ = razmerje\n",
    "* $h$ = površina hiše\n",
    "* $z$ = površina zemljišča"
   ]
  },
  {
   "cell_type": "markdown",
   "metadata": {},
   "source": [
    "Torej $r \\isin [0,\\infty)$ . \n",
    "\n",
    "Če $r \\isin [0 , 1]$, potem je površina hiše manjša kot površina zemljišča. (Hiša ima vrt, ali drugo zemljo.) \n",
    "\n",
    "Če pa je $r \\isin (1,\\infty)$ potem je površina hiše večja kot površina zemljišča. V tem primeru hiša najbrž nima vrta ima pa več nadstropij.   "
   ]
  },
  {
   "cell_type": "code",
   "execution_count": 57,
   "metadata": {},
   "outputs": [
    {
     "data": {
      "text/plain": [
       "<AxesSubplot:xlabel='r', ylabel='cena'>"
      ]
     },
     "execution_count": 57,
     "metadata": {},
     "output_type": "execute_result"
    },
    {
     "data": {
      "image/png": "[encoded data removed]",
      "text/plain": [
       "<Figure size 432x288 with 1 Axes>"
      ]
     },
     "metadata": {
      "needs_background": "light"
     },
     "output_type": "display_data"
    }
   ],
   "source": [
    "normalne_hise = hise[(hise.povrsina_hise > 20) & (hise.povrsina_zemljisca > 20)].copy()\n",
    "r = normalne_hise.povrsina_hise / normalne_hise.povrsina_zemljisca\n",
    "normalne_hise[\"r\"] = r\n",
    "normalne_hise.plot.scatter(\"r\", \"cena\")"
   ]
  },
  {
   "cell_type": "markdown",
   "metadata": {},
   "source": [
    "Največ hiš se nahaja v kvadratu $[0,1] \\times [0,1]$ sepravi največ hiš ima tudi vrt ali vsaj večjo površino zemljišča, kot površino hiše. Poleg tega pa njihova cena ne presega milijona, kar tudi ni zares presenetljivo.\n",
    "\n",
    "Kakorkoli pa bi lahko trdili, da cene z razmerjem v splošnem padajo. Torej večji kot je $r$ manjše so cene. Le malo hiš je takih, ki imajo razmerje večje od 1 in cene večje kot milijon. Te si lahko ogledamo na naslednjem grafu, na katerem so le tiste hiše, ki so dražje kot milijon evrov in imajo $r$ večji od 1."
   ]
  },
  {
   "cell_type": "code",
   "execution_count": 58,
   "metadata": {},
   "outputs": [
    {
     "data": {
      "text/plain": [
       "<AxesSubplot:xlabel='r', ylabel='cena'>"
      ]
     },
     "execution_count": 58,
     "metadata": {},
     "output_type": "execute_result"
    },
    {
     "data": {
      "image/png": "[encoded data removed]",
      "text/plain": [
       "<Figure size 432x288 with 1 Axes>"
      ]
     },
     "metadata": {
      "needs_background": "light"
     },
     "output_type": "display_data"
    }
   ],
   "source": [
    "normalne_hise[(normalne_hise.cena > 1000000) & (normalne_hise.r > 1)].plot.scatter(\"r\", \"cena\")"
   ]
  },
  {
   "cell_type": "markdown",
   "metadata": {},
   "source": [
    "Na grafu izstopata dve hiši. Prva (levo zgoraj) je zelo draga hiša, ki ima površino hiše le malo večjo kot površino zemljišča. Druga (desno spodaj) pa je hiša, ki stane malo več kot milijon a ima skoraj 6-krat večjo površino hiše kot površino zemljišča. Ta hiša ima sigurno več nadstropij in zelo malo (če ga sploh ima) vrta.  "
   ]
  },
  {
   "cell_type": "markdown",
   "metadata": {},
   "source": [
    "Zanimivo bi se mi zdelo pogledati še podatek o tem, kakšno je povprečno razmerje."
   ]
  },
  {
   "cell_type": "code",
   "execution_count": 59,
   "metadata": {},
   "outputs": [
    {
     "data": {
      "text/plain": [
       "0.43437787026696334"
      ]
     },
     "execution_count": 59,
     "metadata": {},
     "output_type": "execute_result"
    }
   ],
   "source": [
    "normalne_hise.mean(axis = 0, numeric_only=True)[\"r\"]"
   ]
  },
  {
   "cell_type": "markdown",
   "metadata": {},
   "source": [
    "Povprečna hiša ima razmerje med površino hiše in površino zemljišča $0,44$ , kar je malo manj kot $0,5$ , kjer bi bila površina zemljišča ravno dvakrat večja kot površina hiše.\n",
    "Torej ima povprečna hiša površino vrta oz. drugega zemljišča, ki ni hiša, malo več kot pa je površina hiše.  "
   ]
  },
  {
   "cell_type": "markdown",
   "metadata": {},
   "source": [
    "## Kakšna je verjetnost, da bo v opisu hiše določena beseda?"
   ]
  },
  {
   "cell_type": "markdown",
   "metadata": {},
   "source": [
    "V tem poglavju nas bo znaimala verjetnost, da se v opisu hiše pojavijo besede kot so \"mirna okolica\", \" zeleno okolje\"... Pogledali si bomo še za koliko so hiše s takimi besedami dražje ali cenejše od povprečja."
   ]
  },
  {
   "cell_type": "code",
   "execution_count": 60,
   "metadata": {},
   "outputs": [],
   "source": [
    "def je_v_opisu(opis, beseda):\n",
    "    return beseda in opis\n",
    "\n",
    "def verjetnost_v_opisu_beseda(beseda):\n",
    "    hise_z_besedo = hise[\"opis\"].apply(je_v_opisu, beseda=(beseda))\n",
    "    return hise[hise_z_besedo][\"cena\"].count() / hise[\"opis\"].count() "
   ]
  },
  {
   "cell_type": "code",
   "execution_count": 61,
   "metadata": {},
   "outputs": [
    {
     "data": {
      "text/plain": [
       "1.0"
      ]
     },
     "execution_count": 61,
     "metadata": {},
     "output_type": "execute_result"
    }
   ],
   "source": [
    "verjetnost_v_opisu_beseda(\"m2\")"
   ]
  },
  {
   "cell_type": "code",
   "execution_count": 62,
   "metadata": {},
   "outputs": [
    {
     "data": {
      "text/plain": [
       "0.01383185649448887"
      ]
     },
     "execution_count": 62,
     "metadata": {},
     "output_type": "execute_result"
    }
   ],
   "source": [
    "verjetnost_v_opisu_beseda(\"samostojna hiša\")"
   ]
  },
  {
   "cell_type": "markdown",
   "metadata": {},
   "source": [
    "\"m2\" se pojavi kar v vsakem opisu besed.\n",
    "\n",
    "Pri iskanju besed, ki so v povezavi z mirom, si bomo namesto da pišemo \"mirna okolica\" ali \"mirno okolje\". Delo poenostavili in poiskali kar vse, ki vsebujejo \"mir\". Podobno pri besednih zvezah \"zelena okolica\" in \"zeleno okolje\"."
   ]
  },
  {
   "cell_type": "code",
   "execution_count": 63,
   "metadata": {},
   "outputs": [
    {
     "data": {
      "text/plain": [
       "0.004970823427706938"
      ]
     },
     "execution_count": 63,
     "metadata": {},
     "output_type": "execute_result"
    }
   ],
   "source": [
    "verjetnost_v_opisu_beseda(\"zelen\")"
   ]
  },
  {
   "cell_type": "code",
   "execution_count": 64,
   "metadata": {},
   "outputs": [
    {
     "data": {
      "text/plain": [
       "0.046034147395720766"
      ]
     },
     "execution_count": 64,
     "metadata": {},
     "output_type": "execute_result"
    }
   ],
   "source": [
    "verjetnost_v_opisu_beseda(\"mir\")"
   ]
  },
  {
   "cell_type": "code",
   "execution_count": 65,
   "metadata": {},
   "outputs": [
    {
     "data": {
      "text/plain": [
       "0.022260644045818026"
      ]
     },
     "execution_count": 65,
     "metadata": {},
     "output_type": "execute_result"
    }
   ],
   "source": [
    "verjetnost_v_opisu_beseda(\"morje\")"
   ]
  },
  {
   "cell_type": "code",
   "execution_count": 66,
   "metadata": {},
   "outputs": [],
   "source": [
    "hise_z_besedo_mir = hise[\"opis\"].apply(je_v_opisu, beseda=(\"mir\"))\n",
    "hise_z_besedo_zelen = hise[\"opis\"].apply(je_v_opisu, beseda=(\"zelen\"))\n",
    "hise_z_besedo_morje = hise[\"opis\"].apply(je_v_opisu, beseda=(\"morje\"))"
   ]
  },
  {
   "cell_type": "code",
   "execution_count": 67,
   "metadata": {},
   "outputs": [
    {
     "data": {
      "text/plain": [
       "{'vse hiše': 374673.7994380808,\n",
       " 'mir': 332007.06103286386,\n",
       " 'zelen': 353084.7826086957,\n",
       " 'morje': 594884.3106796116}"
      ]
     },
     "execution_count": 67,
     "metadata": {},
     "output_type": "execute_result"
    }
   ],
   "source": [
    "{\"vse hiše\" : hise[\"cena\"].mean(),\n",
    "\"mir\" : hise[hise_z_besedo_mir][\"cena\"].mean(),\n",
    "\"zelen\" : hise[hise_z_besedo_zelen][\"cena\"].mean(),\n",
    "\"morje\" : hise[hise_z_besedo_morje][\"cena\"].mean()}"
   ]
  },
  {
   "cell_type": "markdown",
   "metadata": {},
   "source": [
    "Hiše, ki imajo v opisu besedi \"mir\" ali \"zelen\" so v povprečju cenejše kot ostale hiše. Medtem ko so hiše, ki v opisu vsebujejo besedo \"morje\" precej dražje, kot tiste, ki je ne vsebujejo."
   ]
  },
  {
   "cell_type": "markdown",
   "metadata": {},
   "source": [
    "## Cene hiš po regijah"
   ]
  },
  {
   "cell_type": "markdown",
   "metadata": {},
   "source": [
    "Iz spletne strani www.postnestevilke.com smo zajeli podatke o tem kakšne poštne številke imajo kraji. Tem bomo z naslednjo funkcijo priredili največje mesto (tako kot so razdeljene po poštnih številkah)."
   ]
  },
  {
   "cell_type": "code",
   "execution_count": 68,
   "metadata": {},
   "outputs": [],
   "source": [
    "postne = pd.read_csv(os.path.join(\"postne.csv\"))\n",
    "skupna = pd.merge(postne, hise, left_on='kraj', right_on=\"kraj\")"
   ]
  },
  {
   "cell_type": "code",
   "execution_count": 69,
   "metadata": {},
   "outputs": [
    {
     "data": {
      "text/plain": [
       "okolis\n",
       "Murska Sobota    122808.966667\n",
       "Maribor          191078.043478\n",
       "Novo Mesto       198654.451220\n",
       "Nova Gorica      203816.666667\n",
       "Celje            299422.349593\n",
       "Koper            306970.694444\n",
       "Ljubljana        388810.095506\n",
       "Kranj            515130.238095\n",
       "Name: cena, dtype: float64"
      ]
     },
     "execution_count": 69,
     "metadata": {},
     "output_type": "execute_result"
    }
   ],
   "source": [
    "def funkcija_regije(postna_stevilka):\n",
    "    st = postna_stevilka // 1000\n",
    "    if st == 1:\n",
    "        return \"Ljubljana\"\n",
    "    elif st == 2:\n",
    "        return \"Maribor\"\n",
    "    elif st == 3:\n",
    "        return \"Celje\"\n",
    "    elif st == 4:\n",
    "        return \"Kranj\"\n",
    "    elif st == 5:\n",
    "        return \"Nova Gorica\"\n",
    "    elif st == 6:\n",
    "        return \"Koper\"\n",
    "    elif st == 8:\n",
    "        return \"Novo Mesto\"\n",
    "    elif st == 9:\n",
    "        return \"Murska Sobota\"\n",
    "\n",
    "skupna[\"okolis\"] = skupna[\"postna_stevilka\"].apply(funkcija_regije)\n",
    "hise_po_okolisih = skupna.groupby(\"okolis\")\n",
    "hise_po_okolisih.mean().sort_values(\"cena\")[\"cena\"]"
   ]
  },
  {
   "cell_type": "markdown",
   "metadata": {},
   "source": [
    "V tabeli zgoraj so tako opisane povprečne cene nepremičnin v teh okrajih. Pri čemer so bile zajete samo nepremičnine z nedvoumnim zapisom kraja. Teh je bilo slabih 1000.\n",
    "\n",
    "Najvišja povprečna cena nepremičnine je v krajih s poštno številko, ki se začne s 4, kar predstavlja Gorenjsko (515.130 €), sledi pa Osredneslovenska regija z Ljubljano (388.810 €)."
   ]
  },
  {
   "cell_type": "code",
   "execution_count": 70,
   "metadata": {},
   "outputs": [
    {
     "data": {
      "text/html": [
       "<div>\n",
       "<style scoped>\n",
       "    .dataframe tbody tr th:only-of-type {\n",
       "        vertical-align: middle;\n",
       "    }\n",
       "\n",
       "    .dataframe tbody tr th {\n",
       "        vertical-align: top;\n",
       "    }\n",
       "\n",
       "    .dataframe thead th {\n",
       "        text-align: right;\n",
       "    }\n",
       "</style>\n",
       "<table border=\"1\" class=\"dataframe\">\n",
       "  <thead>\n",
       "    <tr style=\"text-align: right;\">\n",
       "      <th>rang_cene</th>\n",
       "      <th>- 50.000</th>\n",
       "      <th>50.000 - 100.000</th>\n",
       "      <th>100.000 - 200.000</th>\n",
       "      <th>200.000 - 300.000</th>\n",
       "      <th>300.000 - 400.000</th>\n",
       "      <th>400.000 - 500.000</th>\n",
       "      <th>500.000 - 1.000.000</th>\n",
       "      <th>|1.000.000 -</th>\n",
       "    </tr>\n",
       "    <tr>\n",
       "      <th>okolis</th>\n",
       "      <th></th>\n",
       "      <th></th>\n",
       "      <th></th>\n",
       "      <th></th>\n",
       "      <th></th>\n",
       "      <th></th>\n",
       "      <th></th>\n",
       "      <th></th>\n",
       "    </tr>\n",
       "  </thead>\n",
       "  <tbody>\n",
       "    <tr>\n",
       "      <th>Celje</th>\n",
       "      <td>5</td>\n",
       "      <td>19</td>\n",
       "      <td>51</td>\n",
       "      <td>19</td>\n",
       "      <td>8</td>\n",
       "      <td>6</td>\n",
       "      <td>11</td>\n",
       "      <td>4</td>\n",
       "    </tr>\n",
       "    <tr>\n",
       "      <th>Koper</th>\n",
       "      <td>0</td>\n",
       "      <td>13</td>\n",
       "      <td>25</td>\n",
       "      <td>18</td>\n",
       "      <td>2</td>\n",
       "      <td>1</td>\n",
       "      <td>10</td>\n",
       "      <td>3</td>\n",
       "    </tr>\n",
       "    <tr>\n",
       "      <th>Kranj</th>\n",
       "      <td>1</td>\n",
       "      <td>2</td>\n",
       "      <td>16</td>\n",
       "      <td>14</td>\n",
       "      <td>19</td>\n",
       "      <td>16</td>\n",
       "      <td>10</td>\n",
       "      <td>6</td>\n",
       "    </tr>\n",
       "    <tr>\n",
       "      <th>Ljubljana</th>\n",
       "      <td>3</td>\n",
       "      <td>16</td>\n",
       "      <td>25</td>\n",
       "      <td>46</td>\n",
       "      <td>28</td>\n",
       "      <td>22</td>\n",
       "      <td>33</td>\n",
       "      <td>5</td>\n",
       "    </tr>\n",
       "    <tr>\n",
       "      <th>Maribor</th>\n",
       "      <td>7</td>\n",
       "      <td>28</td>\n",
       "      <td>54</td>\n",
       "      <td>29</td>\n",
       "      <td>16</td>\n",
       "      <td>2</td>\n",
       "      <td>2</td>\n",
       "      <td>0</td>\n",
       "    </tr>\n",
       "    <tr>\n",
       "      <th>Murska Sobota</th>\n",
       "      <td>4</td>\n",
       "      <td>13</td>\n",
       "      <td>10</td>\n",
       "      <td>2</td>\n",
       "      <td>0</td>\n",
       "      <td>0</td>\n",
       "      <td>1</td>\n",
       "      <td>0</td>\n",
       "    </tr>\n",
       "    <tr>\n",
       "      <th>Nova Gorica</th>\n",
       "      <td>2</td>\n",
       "      <td>18</td>\n",
       "      <td>17</td>\n",
       "      <td>5</td>\n",
       "      <td>6</td>\n",
       "      <td>2</td>\n",
       "      <td>4</td>\n",
       "      <td>0</td>\n",
       "    </tr>\n",
       "    <tr>\n",
       "      <th>Novo Mesto</th>\n",
       "      <td>7</td>\n",
       "      <td>12</td>\n",
       "      <td>37</td>\n",
       "      <td>10</td>\n",
       "      <td>10</td>\n",
       "      <td>2</td>\n",
       "      <td>4</td>\n",
       "      <td>0</td>\n",
       "    </tr>\n",
       "  </tbody>\n",
       "</table>\n",
       "</div>"
      ],
      "text/plain": [
       "rang_cene      - 50.000  50.000 - 100.000  100.000 - 200.000  \\\n",
       "okolis                                                         \n",
       "Celje                 5                19                 51   \n",
       "Koper                 0                13                 25   \n",
       "Kranj                 1                 2                 16   \n",
       "Ljubljana             3                16                 25   \n",
       "Maribor               7                28                 54   \n",
       "Murska Sobota         4                13                 10   \n",
       "Nova Gorica           2                18                 17   \n",
       "Novo Mesto            7                12                 37   \n",
       "\n",
       "rang_cene      200.000 - 300.000  300.000 - 400.000  400.000 - 500.000  \\\n",
       "okolis                                                                   \n",
       "Celje                         19                  8                  6   \n",
       "Koper                         18                  2                  1   \n",
       "Kranj                         14                 19                 16   \n",
       "Ljubljana                     46                 28                 22   \n",
       "Maribor                       29                 16                  2   \n",
       "Murska Sobota                  2                  0                  0   \n",
       "Nova Gorica                    5                  6                  2   \n",
       "Novo Mesto                    10                 10                  2   \n",
       "\n",
       "rang_cene      500.000 - 1.000.000  |1.000.000 -  \n",
       "okolis                                            \n",
       "Celje                           11             4  \n",
       "Koper                           10             3  \n",
       "Kranj                           10             6  \n",
       "Ljubljana                       33             5  \n",
       "Maribor                          2             0  \n",
       "Murska Sobota                    1             0  \n",
       "Nova Gorica                      4             0  \n",
       "Novo Mesto                       4             0  "
      ]
     },
     "execution_count": 70,
     "metadata": {},
     "output_type": "execute_result"
    }
   ],
   "source": [
    "def rang_cene(cena):\n",
    "    if cena < 50000:\n",
    "        return \"- 50.000\"\n",
    "    elif cena < 100000:\n",
    "        return \"50.000 - 100.000\"\n",
    "    elif cena < 200000:\n",
    "        return \"100.000 - 200.000\"\n",
    "    elif cena < 300000:\n",
    "        return \"200.000 - 300.000\"\n",
    "    elif cena < 400000:\n",
    "        return \"300.000 - 400.000\"\n",
    "    elif cena < 500000:\n",
    "        return \"400.000 - 500.000\"\n",
    "    elif cena < 1000000:\n",
    "        return \"500.000 - 1.000.000\"\n",
    "    else:\n",
    "        return \"|1.000.000 -\"\n",
    "\n",
    "skupna[\"rang_cene\"] = skupna[\"cena\"].apply(rang_cene)\n",
    "\n",
    "hura = pd.crosstab(skupna[\"okolis\"], skupna[\"rang_cene\"])\n",
    "\n",
    "cols = hura.columns.tolist()\n",
    "cols = ['- 50.000',\n",
    " '50.000 - 100.000',\n",
    " '100.000 - 200.000',\n",
    " '200.000 - 300.000',\n",
    " '300.000 - 400.000',\n",
    " '400.000 - 500.000',\n",
    " '500.000 - 1.000.000',\n",
    " '|1.000.000 -']\n",
    "\n",
    "hura = hura[cols]\n",
    "hura"
   ]
  },
  {
   "cell_type": "markdown",
   "metadata": {},
   "source": [
    "Iz zgornje tabele in spodnjega grafa lahko razberemo, da v Mariboru najlažje najdemo nepremičnino v vrednosti od 100 - 200 tisoč evrov. Medtem ko, če želimo kupiti nepremičnino v vrednosti od 200 - 300 tisoč evrov je le teh največ v Ljubljani. Tabela in graf pregledno razporedita nepremičnine glede na rang cen in lokacije. "
   ]
  },
  {
   "cell_type": "code",
   "execution_count": 71,
   "metadata": {},
   "outputs": [
    {
     "data": {
      "text/plain": [
       "<AxesSubplot:xlabel='okolis'>"
      ]
     },
     "execution_count": 71,
     "metadata": {},
     "output_type": "execute_result"
    },
    {
     "data": {
      "image/png": "[encoded data removed]",
      "text/plain": [
       "<Figure size 432x288 with 1 Axes>"
      ]
     },
     "metadata": {
      "needs_background": "light"
     },
     "output_type": "display_data"
    }
   ],
   "source": [
    "hura.plot.bar()"
   ]
  },
  {
   "cell_type": "markdown",
   "metadata": {},
   "source": [
    "## Slovenija vs Hrvaška"
   ]
  },
  {
   "cell_type": "markdown",
   "metadata": {},
   "source": [
    "Za konec si poglejmo še primerjavo nepremičnin iz Sloveinje in Hrvaške."
   ]
  },
  {
   "cell_type": "code",
   "execution_count": 72,
   "metadata": {},
   "outputs": [
    {
     "data": {
      "text/html": [
       "<div>\n",
       "<style scoped>\n",
       "    .dataframe tbody tr th:only-of-type {\n",
       "        vertical-align: middle;\n",
       "    }\n",
       "\n",
       "    .dataframe tbody tr th {\n",
       "        vertical-align: top;\n",
       "    }\n",
       "\n",
       "    .dataframe thead th {\n",
       "        text-align: right;\n",
       "    }\n",
       "</style>\n",
       "<table border=\"1\" class=\"dataframe\">\n",
       "  <thead>\n",
       "    <tr style=\"text-align: right;\">\n",
       "      <th></th>\n",
       "      <th>leto</th>\n",
       "      <th>cena</th>\n",
       "      <th>povrsina_zemljisca</th>\n",
       "      <th>povrsina_hise</th>\n",
       "    </tr>\n",
       "    <tr>\n",
       "      <th>drzava</th>\n",
       "      <th></th>\n",
       "      <th></th>\n",
       "      <th></th>\n",
       "      <th></th>\n",
       "    </tr>\n",
       "  </thead>\n",
       "  <tbody>\n",
       "    <tr>\n",
       "      <th>Hrvaska</th>\n",
       "      <td>1988.927097</td>\n",
       "      <td>487308.176129</td>\n",
       "      <td>1016.302400</td>\n",
       "      <td>220.101935</td>\n",
       "    </tr>\n",
       "    <tr>\n",
       "      <th>Slovenija</th>\n",
       "      <td>1962.062073</td>\n",
       "      <td>317935.650634</td>\n",
       "      <td>3644.919276</td>\n",
       "      <td>227.195059</td>\n",
       "    </tr>\n",
       "  </tbody>\n",
       "</table>\n",
       "</div>"
      ],
      "text/plain": [
       "                  leto           cena  povrsina_zemljisca  povrsina_hise\n",
       "drzava                                                                  \n",
       "Hrvaska    1988.927097  487308.176129         1016.302400     220.101935\n",
       "Slovenija  1962.062073  317935.650634         3644.919276     227.195059"
      ]
     },
     "execution_count": 72,
     "metadata": {},
     "output_type": "execute_result"
    }
   ],
   "source": [
    "hise.groupby(\"drzava\").mean()"
   ]
  },
  {
   "cell_type": "markdown",
   "metadata": {},
   "source": [
    "Preko portala nepremicnine.net se prodajajo predvsem hiše v Sloveniji. Hrvaške hiše so novejše in praviloma manjše, na manjšem zemljišču ter dražje, kot hiše v Sloveniji. "
   ]
  }
 ],
 "metadata": {
  "interpreter": {
   "hash": "1576dbea853f1f2b31e37df8db13b606c67763ede887e0774dfd8250a3da7f44"
  },
  "kernelspec": {
   "display_name": "Python 3.8.2 32-bit",
   "name": "python3"
  },
  "language_info": {
   "codemirror_mode": {
    "name": "ipython",
    "version": 3
   },
   "file_extension": ".py",
   "mimetype": "text/x-python",
   "name": "python",
   "nbconvert_exporter": "python",
   "pygments_lexer": "ipython3",
   "version": "3.8.2"
  },
  "orig_nbformat": 4
 },
 "nbformat": 4,
 "nbformat_minor": 2
}
